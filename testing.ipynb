{
 "cells": [
  {
   "cell_type": "code",
   "execution_count": 8,
   "id": "initial_id",
   "metadata": {
    "ExecuteTime": {
     "start_time": "2024-11-19T11:49:11.578234Z"
    },
    "jupyter": {
     "is_executing": true
    }
   },
   "outputs": [
    {
     "name": "stdout",
     "output_type": "stream",
     "text": [
      "Epoch 1/10\n",
      "\u001b[1m2/2\u001b[0m \u001b[32m━━━━━━━━━━━━━━━━━━━━\u001b[0m\u001b[37m\u001b[0m \u001b[1m0s\u001b[0m 3ms/step - loss: 0.0872 - mae: 0.2875  \n",
      "Epoch 2/10\n",
      "\u001b[1m2/2\u001b[0m \u001b[32m━━━━━━━━━━━━━━━━━━━━\u001b[0m\u001b[37m\u001b[0m \u001b[1m0s\u001b[0m 5ms/step - loss: 0.0896 - mae: 0.2908\n",
      "Epoch 3/10\n",
      "\u001b[1m2/2\u001b[0m \u001b[32m━━━━━━━━━━━━━━━━━━━━\u001b[0m\u001b[37m\u001b[0m \u001b[1m0s\u001b[0m 5ms/step - loss: 0.0989 - mae: 0.3043\n",
      "Epoch 4/10\n",
      "\u001b[1m2/2\u001b[0m \u001b[32m━━━━━━━━━━━━━━━━━━━━\u001b[0m\u001b[37m\u001b[0m \u001b[1m0s\u001b[0m 5ms/step - loss: 0.0952 - mae: 0.2985\n",
      "Epoch 5/10\n",
      "\u001b[1m2/2\u001b[0m \u001b[32m━━━━━━━━━━━━━━━━━━━━\u001b[0m\u001b[37m\u001b[0m \u001b[1m0s\u001b[0m 3ms/step - loss: 0.1053 - mae: 0.3171 \n",
      "Epoch 6/10\n",
      "\u001b[1m2/2\u001b[0m \u001b[32m━━━━━━━━━━━━━━━━━━━━\u001b[0m\u001b[37m\u001b[0m \u001b[1m0s\u001b[0m 5ms/step - loss: 0.0870 - mae: 0.2879\n",
      "Epoch 7/10\n",
      "\u001b[1m2/2\u001b[0m \u001b[32m━━━━━━━━━━━━━━━━━━━━\u001b[0m\u001b[37m\u001b[0m \u001b[1m0s\u001b[0m 3ms/step - loss: 0.0863 - mae: 0.2847 \n",
      "Epoch 8/10\n",
      "\u001b[1m2/2\u001b[0m \u001b[32m━━━━━━━━━━━━━━━━━━━━\u001b[0m\u001b[37m\u001b[0m \u001b[1m0s\u001b[0m 2ms/step - loss: 0.1066 - mae: 0.3206 \n",
      "Epoch 9/10\n",
      "\u001b[1m2/2\u001b[0m \u001b[32m━━━━━━━━━━━━━━━━━━━━\u001b[0m\u001b[37m\u001b[0m \u001b[1m0s\u001b[0m 4ms/step - loss: 0.1016 - mae: 0.3124  \n",
      "Epoch 10/10\n",
      "\u001b[1m2/2\u001b[0m \u001b[32m━━━━━━━━━━━━━━━━━━━━\u001b[0m\u001b[37m\u001b[0m \u001b[1m0s\u001b[0m 5ms/step - loss: 0.0939 - mae: 0.3001\n",
      "\u001b[1m1/1\u001b[0m \u001b[32m━━━━━━━━━━━━━━━━━━━━\u001b[0m\u001b[37m\u001b[0m \u001b[1m0s\u001b[0m 41ms/step\n",
      "[[0.4884854 ]\n",
      " [0.48099846]]\n"
     ]
    }
   ],
   "source": [
    "import numpy as np\n",
    "import tensorflow as tf\n",
    "from tensorflow import keras\n",
    "from tensorflow.keras.callbacks import TensorBoard\n",
    "import os\n",
    "\n",
    "# Sample data with missing values (represented as NaN)\n",
    "X_train = np.array([[0.1, 0.2, 0.3, 0.4],\n",
    "                    [0.5, 0.6, 0.7, 0.8],\n",
    "                    [0.9, 1.0, 1.1, 1.2],\n",
    "                    [1.3, 1.4, 1.5, 1.6]])\n",
    "\n",
    "y_train = np.array([0.1, 0.7, 0.8, 0.2])  # Target values for scoring (continuous values)\n",
    "\n",
    "# Define the layers in an array/list\n",
    "layer_config = [\n",
    "    keras.Input(shape=(4,)),  # Input shape matches the number of features\n",
    "    keras.layers.Reshape((4, 1)),  # Reshape input to 3D (batch_size, steps=4, features=1)\n",
    "    keras.layers.Masking(mask_value=np.nan),  # Ignore NaN values\n",
    "    keras.layers.GlobalAveragePooling1D(),  # Use global average pooling instead of flatten\n",
    "    keras.layers.Dense(256, activation='relu'),\n",
    "    keras.layers.Dropout(0.35),  # Dropout layer with 35% drop probability\n",
    "    keras.layers.Dense(1, activation='sigmoid')  # Output layer with 1 unit and sigmoid activation for a score between 0 and 1\n",
    "]\n",
    "\n",
    "# Create the model\n",
    "model = keras.Sequential(layer_config)\n",
    "\n",
    "# Compile the model for a regression-like task\n",
    "model.compile(optimizer='adam',\n",
    "              loss='mean_squared_error',  # Using MSE for continuous target values\n",
    "              metrics=['mae'])  # Mean Absolute Error as an additional metric\n",
    "\n",
    "# Train the model\n",
    "model.fit(X_train, y_train, epochs=10, batch_size=2)\n",
    "\n",
    "# Test data with NaN values\n",
    "X_test = np.array([[0.1, 0.2, np.nan, 0.4], \n",
    "                   [0.9, 1.0, 1.1, np.nan]])\n",
    "\n",
    "# Make predictions\n",
    "predictions = model.predict(X_test_filled)\n",
    "\n",
    "print(predictions)"
   ]
  },
  {
   "cell_type": "code",
   "execution_count": null,
   "id": "7c715606-9571-4ab2-8367-a1938196e94e",
   "metadata": {},
   "outputs": [],
   "source": []
  }
 ],
 "metadata": {
  "kernelspec": {
   "display_name": "Python 3 (ipykernel)",
   "language": "python",
   "name": "python3"
  },
  "language_info": {
   "codemirror_mode": {
    "name": "ipython",
    "version": 3
   },
   "file_extension": ".py",
   "mimetype": "text/x-python",
   "name": "python",
   "nbconvert_exporter": "python",
   "pygments_lexer": "ipython3",
   "version": "3.11.10"
  }
 },
 "nbformat": 4,
 "nbformat_minor": 5
}
