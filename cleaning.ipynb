{
 "cells": [
  {
   "cell_type": "code",
   "execution_count": 42,
   "metadata": {},
   "outputs": [
    {
     "name": "stderr",
     "output_type": "stream",
     "text": [
      "C:\\Users\\joshu\\AppData\\Local\\Temp\\ipykernel_23924\\4157396559.py:6: DtypeWarning: Columns (4,5) have mixed types. Specify dtype option on import or set low_memory=False.\n",
      "  data = pd.read_csv('NASA Exoplanet Data/NASA Exoplanet Archive - Planetary Systems Data.csv')\n"
     ]
    }
   ],
   "source": [
    "import pandas as pd\n",
    "import matplotlib.pyplot as plt\n",
    "from sklearn.preprocessing import StandardScaler\n",
    "\n",
    "# Load the data\n",
    "data = pd.read_csv('NASA Exoplanet Data/NASA Exoplanet Archive - Planetary Systems Data.csv')\n",
    "\n",
    "# Select the specified columns\n",
    "columns = [\n",
    "    'rowid', 'hostname', 'pl_letter', 'default_flag', 'cb_flag', 'sy_snum', 'sy_pnum', \n",
    "    'pl_controv_flag', 'pl_orbper', 'pl_orbsmax', 'pl_rade', 'pl_bmasse', 'ra', 'dec', \n",
    "    'sy_dist', 'pl_eqt', 'st_lum', 'pl_dens', 'st_dens', 'st_age', 'st_teff'\n",
    "]\n",
    "data = data[columns]\n",
    "\n",
    "# Drop rows where pl_controv_flag is 1\n",
    "data = data[data['pl_controv_flag'] != 1]\n",
    "data = data.drop(columns=['pl_controv_flag'])\n",
    "data = data[data['default_flag'] != 0]\n",
    "data = data.drop(columns=['default_flag'])\n",
    "\n",
    "data.head()\n",
    "\n",
    "data = data.reset_index(drop=True)\n",
    "data['rowid'] = data.index\n",
    "\n",
    "data.to_csv(\"CleanedDataMissing.csv\",index=False)\n",
    "\n",
    "# Preprocess the data\n",
    "data = data.dropna()  # Drop rows with missing values\n",
    "data.to_csv(\"CleanedData.csv\",index=False)\n"
   ]
  }
 ],
 "metadata": {
  "kernelspec": {
   "display_name": "base",
   "language": "python",
   "name": "python3"
  },
  "language_info": {
   "codemirror_mode": {
    "name": "ipython",
    "version": 3
   },
   "file_extension": ".py",
   "mimetype": "text/x-python",
   "name": "python",
   "nbconvert_exporter": "python",
   "pygments_lexer": "ipython3",
   "version": "3.10.9"
  }
 },
 "nbformat": 4,
 "nbformat_minor": 2
}
